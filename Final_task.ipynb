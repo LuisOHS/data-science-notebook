{
 "cells": [
  {
   "cell_type": "markdown",
   "id": "9a01763a-acb8-4b4b-9945-0259766ac814",
   "metadata": {},
   "source": [
    "# Data Science Tools and Ecosystem"
   ]
  },
  {
   "cell_type": "markdown",
   "id": "899f5709-ba93-4a50-94e2-06445d2cc6d9",
   "metadata": {},
   "source": [
    "In this notebook, Data Science Tools and Ecosystem are summarized."
   ]
  },
  {
   "cell_type": "markdown",
   "id": "299c1f86-394e-4ebf-b02a-235000e3a527",
   "metadata": {},
   "source": [
    "**Objectives:**"
   ]
  },
  {
   "cell_type": "markdown",
   "id": "7fd924cc-9c27-4489-99e8-35f65641ee73",
   "metadata": {},
   "source": [
    "- List popular languages for Data Science.\n",
    "- Introduce commonly used libraries for Data Science.\n",
    "- Demonstrate evaluating arithmetic expressions in Python.\n",
    "- Explain how to create tables and lists in Markdown.\n",
    "- Provide examples of basic arithmetic operations."
   ]
  },
  {
   "cell_type": "markdown",
   "id": "d6a3013c-099a-4265-bbaf-6f3d800b6d81",
   "metadata": {},
   "source": [
    "Some of the popular languages that Data Scientists use are:\n",
    "1. Python\n",
    "2. \n",
    "3. Julia\n"
   ]
  },
  {
   "cell_type": "markdown",
   "id": "61e62888-7682-4457-9b90-b38f021cdbeb",
   "metadata": {},
   "source": [
    "Some of the commonly used libraries used by Data Scientists include:\r",
    "1. Pandas\n",
    "2. NumPy\n",
    "3. Scikit-learn\n",
    "4. TensorFlow\n",
    "5. Matplotlib\n"
   ]
  },
  {
   "cell_type": "markdown",
   "id": "5c704f54-e18e-425f-b66a-9889213cd48a",
   "metadata": {},
   "source": [
    "| Data Science Tools      |\r\n",
    "|-------------------------|\r\n",
    "| Jupyter Notebook        |\r\n",
    "| RStudio                 |\r\n",
    "| Apache Zeppelin        |\r\n"
   ]
  },
  {
   "cell_type": "markdown",
   "id": "7dc93e60-e826-42ed-bf11-eb65804ebeeb",
   "metadata": {},
   "source": [
    "<H3>Below are a few examples of evaluating arithmetic expressions in Python</H3>"
   ]
  },
  {
   "cell_type": "markdown",
   "id": "de3ba609-6ab5-4915-8ece-3ba9ae3911ed",
   "metadata": {},
   "source": [
    "1. Addition: `5 + 3`  →  Result: `8`\n",
    "2. Subtraction: `10 - 4`  →  Result: `6`\n",
    "3. Multiplication: `7 * 2`  →  Result: `14`\n",
    "4. Division: `15 / 3`  →  Result: `5.0`\n",
    "5. Exponentiation: `2 ** 3`  →  Result: `8`"
   ]
  },
  {
   "cell_type": "markdown",
   "id": "2b0bd799-5589-4f11-b793-bdee5561360f",
   "metadata": {},
   "source": [
    "This is a simple arithmetic expression to multiply then add integerst\r\n"
   ]
  },
  {
   "cell_type": "code",
   "execution_count": 70,
   "id": "a0f0c907-d62f-44c3-9b1b-564c34da55f7",
   "metadata": {},
   "outputs": [
    {
     "data": {
      "text/plain": [
       "17"
      ]
     },
     "execution_count": 70,
     "metadata": {},
     "output_type": "execute_result"
    }
   ],
   "source": [
    "result = (3 * 4) + 5\n",
    "result"
   ]
  },
  {
   "cell_type": "markdown",
   "id": "59ca94f6-f0ef-42f6-9d67-a84f394b4145",
   "metadata": {},
   "source": [
    "This will convert 200 minutes to hours by diving by 60"
   ]
  },
  {
   "cell_type": "code",
   "execution_count": 92,
   "id": "7efbe4e1-fce2-4e71-a082-8a0976223121",
   "metadata": {},
   "outputs": [
    {
     "data": {
      "text/plain": [
       "3"
      ]
     },
     "execution_count": 92,
     "metadata": {},
     "output_type": "execute_result"
    }
   ],
   "source": [
    "minut = 200\n",
    "hour = minut//60\n",
    "hour"
   ]
  },
  {
   "cell_type": "markdown",
   "id": "ffa4a200-88ed-42ba-8184-154e0d12b735",
   "metadata": {},
   "source": [
    "<h2>Author</h2>\n",
    "Luis Orlando Huaman"
   ]
  },
  {
   "cell_type": "code",
   "execution_count": null,
   "id": "fa0d92f6-e6cb-4d26-a111-e6925680ebea",
   "metadata": {},
   "outputs": [],
   "source": []
  }
 ],
 "metadata": {
  "kernelspec": {
   "display_name": "Python 3 (ipykernel)",
   "language": "python",
   "name": "python3"
  },
  "language_info": {
   "codemirror_mode": {
    "name": "ipython",
    "version": 3
   },
   "file_extension": ".py",
   "mimetype": "text/x-python",
   "name": "python",
   "nbconvert_exporter": "python",
   "pygments_lexer": "ipython3",
   "version": "3.12.4"
  }
 },
 "nbformat": 4,
 "nbformat_minor": 5
}
